{
 "cells": [
  {
   "cell_type": "code",
   "execution_count": 1,
   "metadata": {},
   "outputs": [],
   "source": [
    "from torchtext.datasets import IMDB\n",
    "\n",
    "train_iter = IMDB(split='train')\n",
    "test_iter = IMDB(split='test')"
   ]
  },
  {
   "cell_type": "code",
   "execution_count": 2,
   "metadata": {},
   "outputs": [
    {
     "name": "stdout",
     "output_type": "stream",
     "text": [
      "(2, \"I LOVED this movie! I am biased seeing as I am a huge Disney fan, but I really enjoyed myself. The action takes off running in the beginning of the film and just keeps going! This is a bit of a departure for Disney, they don't spend quite as much time on character development (my husband pointed this out)and there are no musical numbers. It is strictly action adventure. I thoroughly enjoyed it and recommend it to anyone who loves Disney, be they young or old.\")\n",
      "(1, 'This was an abysmal show. In short it was about this kid called Doug who guilt-tripped a lot. Seriously he could feel guilty over killing a fly then feeling guilty over feeling guilty for killing the fly and so forth. The animation was grating and unpleasant and the jokes cheap. <br /><br />It aired here in Sweden as a part of the \"Disney time\" show and i remember liking it some what but then i turned 13.<br /><br />I never got why some of the characters were green and purple too. What was up with that? <br /><br />Truly a horrible show. Appareantly it spawned a movie which i\\'ve never seen but i don\\'t have any great expectations for that one either.')\n"
     ]
    }
   ],
   "source": [
    "import random\n",
    "random.seed(6)\n",
    "\n",
    "train_lists = list(train_iter)\n",
    "test_lists = list(test_iter)\n",
    "\n",
    "train_lists_small = random.sample(train_lists, 1000)\n",
    "test_lists_small = random.sample(test_lists, 1000)\n",
    "\n",
    "print(train_lists_small[0])\n",
    "print(test_lists_small[0])"
   ]
  },
  {
   "cell_type": "code",
   "execution_count": 3,
   "metadata": {},
   "outputs": [],
   "source": [
    "train_texts = []\n",
    "train_labels = []\n",
    "\n",
    "for label, text in train_lists_small:\n",
    "    train_texts.append(text)\n",
    "    train_labels.append(1 if label==2 else 0)\n",
    "\n",
    "test_texts = []\n",
    "test_labels = []\n",
    "\n",
    "for label, text in test_lists_small:\n",
    "    test_texts.append(text)\n",
    "    test_labels.append(1 if label==2 else 0)\n",
    "\n"
   ]
  },
  {
   "cell_type": "code",
   "execution_count": 4,
   "metadata": {},
   "outputs": [],
   "source": [
    "from sklearn.model_selection import train_test_split\n",
    "\n",
    "train_texts, val_texts, train_labels, val_labels = train_test_split(train_texts, train_labels, test_size=0.2, random_state=3)"
   ]
  },
  {
   "cell_type": "code",
   "execution_count": 5,
   "metadata": {},
   "outputs": [
    {
     "name": "stderr",
     "output_type": "stream",
     "text": [
      "c:\\Users\\175091\\AppData\\Local\\anaconda3\\envs\\llm\\lib\\site-packages\\tqdm\\auto.py:21: TqdmWarning: IProgress not found. Please update jupyter and ipywidgets. See https://ipywidgets.readthedocs.io/en/stable/user_install.html\n",
      "  from .autonotebook import tqdm as notebook_tqdm\n"
     ]
    }
   ],
   "source": [
    "from transformers import DistilBertTokenizerFast\n",
    "\n",
    "tokenizer = DistilBertTokenizerFast.from_pretrained('distilbert-base-uncased')\n",
    "\n",
    "train_encodings = tokenizer(train_texts, truncation=True, padding=True) # truncation=True는 모델의 디폴트 max_length를 넘는 입력 부분은 더 이상 받지 않고 절단 padding은 max_length보다 토큰이 작으면 남는자리가 <PAD> 토큰으로 교체됨\n",
    "valid_encodings = tokenizer(val_texts, truncation=True, padding=True)\n",
    "test_encodings = tokenizer(test_texts, truncation=True, padding=True)"
   ]
  },
  {
   "cell_type": "code",
   "execution_count": 6,
   "metadata": {},
   "outputs": [],
   "source": [
    "import torch\n",
    "\n",
    "class IMDbDataset(torch.utils.data.Dataset):\n",
    "    def __init__(self, encodings, labels):\n",
    "        self.encodings = encodings\n",
    "        self.labels = labels\n",
    "    \n",
    "    def __getitem__(self, idx):\n",
    "        # self.encoding에 담긴 키와 키값을 items()로 추출\n",
    "        # 이 값을 key와 val 변수에 담아 새로운 키와 키값을 갖는 딕셔너리 생성\n",
    "        item = {key: torch.tensor(val[idx]) for key, val in self.encodings.items()}\n",
    "        \n",
    "        item['labels'] = torch.tensor(self.labels[idx])\n",
    "        return item \n",
    "    \n",
    "    def __len__(self):\n",
    "        return len(self.labels)\n",
    "    \n",
    "    "
   ]
  },
  {
   "cell_type": "code",
   "execution_count": 7,
   "metadata": {},
   "outputs": [],
   "source": [
    "train_dataset = IMDbDataset(train_encodings, train_labels)\n",
    "val_dataset = IMDbDataset(valid_encodings, val_labels)\n",
    "test_dataset = IMDbDataset(test_encodings, test_labels)"
   ]
  },
  {
   "cell_type": "code",
   "execution_count": 8,
   "metadata": {},
   "outputs": [],
   "source": [
    "import torch\n",
    "device = torch.device('cuda' if torch.cuda.is_available() else 'cpu')\n",
    "\n",
    "def test_inference(model, tokenizer):\n",
    "    input_tokens = tokenizer([\"I feel fantastic\", \"My life is going something wrong\", \"I have not figured out what the chosen title has to do with the movie.\"], truncation=True, padding=True)\n",
    "    \n",
    "    outputs = model(torch.tensor(input_tokens['input_ids']).to(device))\n",
    "    label_dict = {1:'positive', 0:'negative'}\n",
    "    \n",
    "    return [label_dict[i] for i in torch.argmax(outputs['logits'], axis=1).cpu().numpy()]"
   ]
  },
  {
   "cell_type": "code",
   "execution_count": 11,
   "metadata": {},
   "outputs": [
    {
     "name": "stderr",
     "output_type": "stream",
     "text": [
      "Some weights of DistilBertForSequenceClassification were not initialized from the model checkpoint at distilbert-base-uncased and are newly initialized: ['classifier.bias', 'classifier.weight', 'pre_classifier.bias', 'pre_classifier.weight']\n",
      "You should probably TRAIN this model on a down-stream task to be able to use it for predictions and inference.\n"
     ]
    },
    {
     "name": "stdout",
     "output_type": "stream",
     "text": [
      "['negative', 'negative', 'positive']\n"
     ]
    },
    {
     "name": "stderr",
     "output_type": "stream",
     "text": [
      "c:\\Users\\175091\\AppData\\Local\\anaconda3\\envs\\llm\\lib\\site-packages\\transformers\\optimization.py:591: FutureWarning: This implementation of AdamW is deprecated and will be removed in a future version. Use the PyTorch implementation torch.optim.AdamW instead, or set `no_deprecation_warning=True` to disable this warning\n",
      "  warnings.warn(\n"
     ]
    }
   ],
   "source": [
    "from torch.utils.data import DataLoader\n",
    "from transformers import DistilBertForSequenceClassification, AdamW\n",
    "from transformers import DistilBertTokenizerFast\n",
    "\n",
    "tokenizer = DistilBertTokenizerFast.from_pretrained('distilbert-base-uncased')\n",
    "model = DistilBertForSequenceClassification.from_pretrained('distilbert-base-uncased')\n",
    "model.to(device)\n",
    "\n",
    "print(test_inference(model, tokenizer))\n",
    "\n",
    "train_loader = DataLoader(train_dataset, batch_size=16, shuffle=True)\n",
    "\n",
    "optim = AdamW(model.parameters(), lr=5e-5)\n",
    "\n",
    "model.train()\n",
    "\n",
    "losses = []"
   ]
  },
  {
   "cell_type": "code",
   "execution_count": 12,
   "metadata": {},
   "outputs": [
    {
     "name": "stdout",
     "output_type": "stream",
     "text": [
      "epoch:0\n",
      "epoch:1\n",
      "epoch:2\n",
      "epoch:3\n",
      "epoch:4\n",
      "epoch:5\n",
      "epoch:6\n",
      "epoch:7\n"
     ]
    }
   ],
   "source": [
    "for epoch in range(8):\n",
    "    print(f'epoch:{epoch}')\n",
    "    for batch in train_loader:\n",
    "        optim.zero_grad()\n",
    "        \n",
    "        input_ids = batch['input_ids'].to(device)\n",
    "        attention_mask = batch['attention_mask'].to(device)\n",
    "        labels = batch['labels'].to(device)\n",
    "        \n",
    "        outputs = model(input_ids, attention_mask=attention_mask, labels=labels)\n",
    "        \n",
    "        loss = outputs[0]\n",
    "        losses.append(loss)\n",
    "        \n",
    "        loss.backward()\n",
    "        \n",
    "        optim.step()"
   ]
  },
  {
   "cell_type": "code",
   "execution_count": 13,
   "metadata": {},
   "outputs": [
    {
     "name": "stdout",
     "output_type": "stream",
     "text": [
      "['positive', 'negative', 'negative']\n"
     ]
    }
   ],
   "source": [
    "model.eval()\n",
    "print(test_inference(model, tokenizer))"
   ]
  },
  {
   "cell_type": "code",
   "execution_count": 14,
   "metadata": {},
   "outputs": [
    {
     "name": "stdout",
     "output_type": "stream",
     "text": [
      "[tensor(0.6990, device='cuda:0', grad_fn=<NllLossBackward0>), tensor(0.7030, device='cuda:0', grad_fn=<NllLossBackward0>), tensor(0.7086, device='cuda:0', grad_fn=<NllLossBackward0>), tensor(0.7007, device='cuda:0', grad_fn=<NllLossBackward0>), tensor(0.7098, device='cuda:0', grad_fn=<NllLossBackward0>), tensor(0.6836, device='cuda:0', grad_fn=<NllLossBackward0>), tensor(0.6692, device='cuda:0', grad_fn=<NllLossBackward0>), tensor(0.6927, device='cuda:0', grad_fn=<NllLossBackward0>), tensor(0.6857, device='cuda:0', grad_fn=<NllLossBackward0>), tensor(0.6757, device='cuda:0', grad_fn=<NllLossBackward0>), tensor(0.6602, device='cuda:0', grad_fn=<NllLossBackward0>), tensor(0.6932, device='cuda:0', grad_fn=<NllLossBackward0>), tensor(0.6444, device='cuda:0', grad_fn=<NllLossBackward0>), tensor(0.6678, device='cuda:0', grad_fn=<NllLossBackward0>), tensor(0.6499, device='cuda:0', grad_fn=<NllLossBackward0>), tensor(0.6067, device='cuda:0', grad_fn=<NllLossBackward0>), tensor(0.6755, device='cuda:0', grad_fn=<NllLossBackward0>), tensor(0.6239, device='cuda:0', grad_fn=<NllLossBackward0>), tensor(0.5517, device='cuda:0', grad_fn=<NllLossBackward0>), tensor(0.5541, device='cuda:0', grad_fn=<NllLossBackward0>), tensor(0.5668, device='cuda:0', grad_fn=<NllLossBackward0>), tensor(0.5358, device='cuda:0', grad_fn=<NllLossBackward0>), tensor(0.5787, device='cuda:0', grad_fn=<NllLossBackward0>), tensor(0.4153, device='cuda:0', grad_fn=<NllLossBackward0>), tensor(0.5638, device='cuda:0', grad_fn=<NllLossBackward0>), tensor(0.4740, device='cuda:0', grad_fn=<NllLossBackward0>), tensor(0.2914, device='cuda:0', grad_fn=<NllLossBackward0>), tensor(0.1752, device='cuda:0', grad_fn=<NllLossBackward0>), tensor(0.5025, device='cuda:0', grad_fn=<NllLossBackward0>), tensor(0.5603, device='cuda:0', grad_fn=<NllLossBackward0>), tensor(0.6373, device='cuda:0', grad_fn=<NllLossBackward0>), tensor(0.3658, device='cuda:0', grad_fn=<NllLossBackward0>), tensor(0.5648, device='cuda:0', grad_fn=<NllLossBackward0>), tensor(0.4303, device='cuda:0', grad_fn=<NllLossBackward0>), tensor(0.3826, device='cuda:0', grad_fn=<NllLossBackward0>), tensor(0.1833, device='cuda:0', grad_fn=<NllLossBackward0>), tensor(0.3195, device='cuda:0', grad_fn=<NllLossBackward0>), tensor(0.4191, device='cuda:0', grad_fn=<NllLossBackward0>), tensor(0.1310, device='cuda:0', grad_fn=<NllLossBackward0>), tensor(0.3213, device='cuda:0', grad_fn=<NllLossBackward0>), tensor(0.6567, device='cuda:0', grad_fn=<NllLossBackward0>), tensor(0.2601, device='cuda:0', grad_fn=<NllLossBackward0>), tensor(0.8235, device='cuda:0', grad_fn=<NllLossBackward0>), tensor(0.3078, device='cuda:0', grad_fn=<NllLossBackward0>), tensor(0.4744, device='cuda:0', grad_fn=<NllLossBackward0>), tensor(0.4793, device='cuda:0', grad_fn=<NllLossBackward0>), tensor(0.3580, device='cuda:0', grad_fn=<NllLossBackward0>), tensor(0.4047, device='cuda:0', grad_fn=<NllLossBackward0>), tensor(0.3747, device='cuda:0', grad_fn=<NllLossBackward0>), tensor(0.3551, device='cuda:0', grad_fn=<NllLossBackward0>), tensor(0.3124, device='cuda:0', grad_fn=<NllLossBackward0>), tensor(0.2470, device='cuda:0', grad_fn=<NllLossBackward0>), tensor(0.6247, device='cuda:0', grad_fn=<NllLossBackward0>), tensor(0.3924, device='cuda:0', grad_fn=<NllLossBackward0>), tensor(0.1516, device='cuda:0', grad_fn=<NllLossBackward0>), tensor(0.3963, device='cuda:0', grad_fn=<NllLossBackward0>), tensor(0.2038, device='cuda:0', grad_fn=<NllLossBackward0>), tensor(0.5488, device='cuda:0', grad_fn=<NllLossBackward0>), tensor(0.3996, device='cuda:0', grad_fn=<NllLossBackward0>), tensor(0.2392, device='cuda:0', grad_fn=<NllLossBackward0>), tensor(0.2053, device='cuda:0', grad_fn=<NllLossBackward0>), tensor(0.1567, device='cuda:0', grad_fn=<NllLossBackward0>), tensor(0.1227, device='cuda:0', grad_fn=<NllLossBackward0>), tensor(0.2882, device='cuda:0', grad_fn=<NllLossBackward0>), tensor(0.1330, device='cuda:0', grad_fn=<NllLossBackward0>), tensor(0.4763, device='cuda:0', grad_fn=<NllLossBackward0>), tensor(0.0745, device='cuda:0', grad_fn=<NllLossBackward0>), tensor(0.1399, device='cuda:0', grad_fn=<NllLossBackward0>), tensor(0.4609, device='cuda:0', grad_fn=<NllLossBackward0>), tensor(0.5032, device='cuda:0', grad_fn=<NllLossBackward0>), tensor(0.5571, device='cuda:0', grad_fn=<NllLossBackward0>), tensor(0.1611, device='cuda:0', grad_fn=<NllLossBackward0>), tensor(0.0771, device='cuda:0', grad_fn=<NllLossBackward0>), tensor(0.3046, device='cuda:0', grad_fn=<NllLossBackward0>), tensor(0.0956, device='cuda:0', grad_fn=<NllLossBackward0>), tensor(0.1491, device='cuda:0', grad_fn=<NllLossBackward0>), tensor(0.1703, device='cuda:0', grad_fn=<NllLossBackward0>), tensor(0.1173, device='cuda:0', grad_fn=<NllLossBackward0>), tensor(0.0984, device='cuda:0', grad_fn=<NllLossBackward0>), tensor(0.4173, device='cuda:0', grad_fn=<NllLossBackward0>), tensor(0.1588, device='cuda:0', grad_fn=<NllLossBackward0>), tensor(0.5408, device='cuda:0', grad_fn=<NllLossBackward0>), tensor(0.0945, device='cuda:0', grad_fn=<NllLossBackward0>), tensor(0.2197, device='cuda:0', grad_fn=<NllLossBackward0>), tensor(0.2574, device='cuda:0', grad_fn=<NllLossBackward0>), tensor(0.6085, device='cuda:0', grad_fn=<NllLossBackward0>), tensor(0.4555, device='cuda:0', grad_fn=<NllLossBackward0>), tensor(0.1013, device='cuda:0', grad_fn=<NllLossBackward0>), tensor(0.0752, device='cuda:0', grad_fn=<NllLossBackward0>), tensor(0.1318, device='cuda:0', grad_fn=<NllLossBackward0>), tensor(0.2833, device='cuda:0', grad_fn=<NllLossBackward0>), tensor(0.5398, device='cuda:0', grad_fn=<NllLossBackward0>), tensor(0.4176, device='cuda:0', grad_fn=<NllLossBackward0>), tensor(0.2968, device='cuda:0', grad_fn=<NllLossBackward0>), tensor(0.3505, device='cuda:0', grad_fn=<NllLossBackward0>), tensor(0.1973, device='cuda:0', grad_fn=<NllLossBackward0>), tensor(0.3537, device='cuda:0', grad_fn=<NllLossBackward0>), tensor(0.3167, device='cuda:0', grad_fn=<NllLossBackward0>), tensor(0.0795, device='cuda:0', grad_fn=<NllLossBackward0>), tensor(0.1075, device='cuda:0', grad_fn=<NllLossBackward0>), tensor(0.1500, device='cuda:0', grad_fn=<NllLossBackward0>), tensor(0.2454, device='cuda:0', grad_fn=<NllLossBackward0>), tensor(0.1142, device='cuda:0', grad_fn=<NllLossBackward0>), tensor(0.0677, device='cuda:0', grad_fn=<NllLossBackward0>), tensor(0.1971, device='cuda:0', grad_fn=<NllLossBackward0>), tensor(0.1127, device='cuda:0', grad_fn=<NllLossBackward0>), tensor(0.0382, device='cuda:0', grad_fn=<NllLossBackward0>), tensor(0.1811, device='cuda:0', grad_fn=<NllLossBackward0>), tensor(0.0458, device='cuda:0', grad_fn=<NllLossBackward0>), tensor(0.0929, device='cuda:0', grad_fn=<NllLossBackward0>), tensor(0.0459, device='cuda:0', grad_fn=<NllLossBackward0>), tensor(0.2160, device='cuda:0', grad_fn=<NllLossBackward0>), tensor(0.0920, device='cuda:0', grad_fn=<NllLossBackward0>), tensor(0.0455, device='cuda:0', grad_fn=<NllLossBackward0>), tensor(0.2359, device='cuda:0', grad_fn=<NllLossBackward0>), tensor(0.0294, device='cuda:0', grad_fn=<NllLossBackward0>), tensor(0.0989, device='cuda:0', grad_fn=<NllLossBackward0>), tensor(0.2059, device='cuda:0', grad_fn=<NllLossBackward0>), tensor(0.0304, device='cuda:0', grad_fn=<NllLossBackward0>), tensor(0.0195, device='cuda:0', grad_fn=<NllLossBackward0>), tensor(0.0307, device='cuda:0', grad_fn=<NllLossBackward0>), tensor(0.0335, device='cuda:0', grad_fn=<NllLossBackward0>), tensor(0.2020, device='cuda:0', grad_fn=<NllLossBackward0>), tensor(0.2243, device='cuda:0', grad_fn=<NllLossBackward0>), tensor(0.1186, device='cuda:0', grad_fn=<NllLossBackward0>), tensor(0.0335, device='cuda:0', grad_fn=<NllLossBackward0>), tensor(0.0656, device='cuda:0', grad_fn=<NllLossBackward0>), tensor(0.2929, device='cuda:0', grad_fn=<NllLossBackward0>), tensor(0.5119, device='cuda:0', grad_fn=<NllLossBackward0>), tensor(0.5910, device='cuda:0', grad_fn=<NllLossBackward0>), tensor(0.1558, device='cuda:0', grad_fn=<NllLossBackward0>), tensor(0.0203, device='cuda:0', grad_fn=<NllLossBackward0>), tensor(0.0626, device='cuda:0', grad_fn=<NllLossBackward0>), tensor(0.1177, device='cuda:0', grad_fn=<NllLossBackward0>), tensor(0.3148, device='cuda:0', grad_fn=<NllLossBackward0>), tensor(0.2839, device='cuda:0', grad_fn=<NllLossBackward0>), tensor(0.1399, device='cuda:0', grad_fn=<NllLossBackward0>), tensor(0.3461, device='cuda:0', grad_fn=<NllLossBackward0>), tensor(0.0830, device='cuda:0', grad_fn=<NllLossBackward0>), tensor(0.1590, device='cuda:0', grad_fn=<NllLossBackward0>), tensor(0.1535, device='cuda:0', grad_fn=<NllLossBackward0>), tensor(0.2825, device='cuda:0', grad_fn=<NllLossBackward0>), tensor(0.1536, device='cuda:0', grad_fn=<NllLossBackward0>), tensor(0.1662, device='cuda:0', grad_fn=<NllLossBackward0>), tensor(0.1681, device='cuda:0', grad_fn=<NllLossBackward0>), tensor(0.2976, device='cuda:0', grad_fn=<NllLossBackward0>), tensor(0.0723, device='cuda:0', grad_fn=<NllLossBackward0>), tensor(0.1941, device='cuda:0', grad_fn=<NllLossBackward0>), tensor(0.2600, device='cuda:0', grad_fn=<NllLossBackward0>), tensor(0.0654, device='cuda:0', grad_fn=<NllLossBackward0>), tensor(0.0297, device='cuda:0', grad_fn=<NllLossBackward0>), tensor(0.1549, device='cuda:0', grad_fn=<NllLossBackward0>), tensor(0.0852, device='cuda:0', grad_fn=<NllLossBackward0>), tensor(0.0925, device='cuda:0', grad_fn=<NllLossBackward0>), tensor(0.0203, device='cuda:0', grad_fn=<NllLossBackward0>), tensor(0.0691, device='cuda:0', grad_fn=<NllLossBackward0>), tensor(0.1564, device='cuda:0', grad_fn=<NllLossBackward0>), tensor(0.0584, device='cuda:0', grad_fn=<NllLossBackward0>), tensor(0.0295, device='cuda:0', grad_fn=<NllLossBackward0>), tensor(0.1029, device='cuda:0', grad_fn=<NllLossBackward0>), tensor(0.0586, device='cuda:0', grad_fn=<NllLossBackward0>), tensor(0.2113, device='cuda:0', grad_fn=<NllLossBackward0>), tensor(0.0157, device='cuda:0', grad_fn=<NllLossBackward0>), tensor(0.2191, device='cuda:0', grad_fn=<NllLossBackward0>), tensor(0.0115, device='cuda:0', grad_fn=<NllLossBackward0>), tensor(0.0118, device='cuda:0', grad_fn=<NllLossBackward0>), tensor(0.1288, device='cuda:0', grad_fn=<NllLossBackward0>), tensor(0.0813, device='cuda:0', grad_fn=<NllLossBackward0>), tensor(0.0104, device='cuda:0', grad_fn=<NllLossBackward0>), tensor(0.0754, device='cuda:0', grad_fn=<NllLossBackward0>), tensor(0.0096, device='cuda:0', grad_fn=<NllLossBackward0>), tensor(0.0184, device='cuda:0', grad_fn=<NllLossBackward0>), tensor(0.0321, device='cuda:0', grad_fn=<NllLossBackward0>), tensor(0.0089, device='cuda:0', grad_fn=<NllLossBackward0>), tensor(0.0268, device='cuda:0', grad_fn=<NllLossBackward0>), tensor(0.0130, device='cuda:0', grad_fn=<NllLossBackward0>), tensor(0.0090, device='cuda:0', grad_fn=<NllLossBackward0>), tensor(0.1252, device='cuda:0', grad_fn=<NllLossBackward0>), tensor(0.0114, device='cuda:0', grad_fn=<NllLossBackward0>), tensor(0.0302, device='cuda:0', grad_fn=<NllLossBackward0>), tensor(0.3473, device='cuda:0', grad_fn=<NllLossBackward0>), tensor(0.0146, device='cuda:0', grad_fn=<NllLossBackward0>), tensor(0.0085, device='cuda:0', grad_fn=<NllLossBackward0>), tensor(0.0077, device='cuda:0', grad_fn=<NllLossBackward0>), tensor(0.0080, device='cuda:0', grad_fn=<NllLossBackward0>), tensor(0.0065, device='cuda:0', grad_fn=<NllLossBackward0>), tensor(0.0083, device='cuda:0', grad_fn=<NllLossBackward0>), tensor(0.0111, device='cuda:0', grad_fn=<NllLossBackward0>), tensor(0.0046, device='cuda:0', grad_fn=<NllLossBackward0>), tensor(0.0082, device='cuda:0', grad_fn=<NllLossBackward0>), tensor(0.1798, device='cuda:0', grad_fn=<NllLossBackward0>), tensor(0.0255, device='cuda:0', grad_fn=<NllLossBackward0>), tensor(0.0050, device='cuda:0', grad_fn=<NllLossBackward0>), tensor(0.0130, device='cuda:0', grad_fn=<NllLossBackward0>), tensor(0.0160, device='cuda:0', grad_fn=<NllLossBackward0>), tensor(0.0070, device='cuda:0', grad_fn=<NllLossBackward0>), tensor(0.4207, device='cuda:0', grad_fn=<NllLossBackward0>), tensor(0.0061, device='cuda:0', grad_fn=<NllLossBackward0>), tensor(0.0344, device='cuda:0', grad_fn=<NllLossBackward0>), tensor(0.0043, device='cuda:0', grad_fn=<NllLossBackward0>), tensor(0.0057, device='cuda:0', grad_fn=<NllLossBackward0>), tensor(0.0048, device='cuda:0', grad_fn=<NllLossBackward0>), tensor(0.0046, device='cuda:0', grad_fn=<NllLossBackward0>), tensor(0.0047, device='cuda:0', grad_fn=<NllLossBackward0>), tensor(0.2910, device='cuda:0', grad_fn=<NllLossBackward0>), tensor(0.0048, device='cuda:0', grad_fn=<NllLossBackward0>), tensor(0.0052, device='cuda:0', grad_fn=<NllLossBackward0>), tensor(0.0064, device='cuda:0', grad_fn=<NllLossBackward0>), tensor(0.0062, device='cuda:0', grad_fn=<NllLossBackward0>), tensor(0.3370, device='cuda:0', grad_fn=<NllLossBackward0>), tensor(0.0053, device='cuda:0', grad_fn=<NllLossBackward0>), tensor(0.1332, device='cuda:0', grad_fn=<NllLossBackward0>), tensor(0.2170, device='cuda:0', grad_fn=<NllLossBackward0>), tensor(0.1422, device='cuda:0', grad_fn=<NllLossBackward0>), tensor(0.0062, device='cuda:0', grad_fn=<NllLossBackward0>), tensor(0.0243, device='cuda:0', grad_fn=<NllLossBackward0>), tensor(0.2423, device='cuda:0', grad_fn=<NllLossBackward0>), tensor(0.0933, device='cuda:0', grad_fn=<NllLossBackward0>), tensor(0.0201, device='cuda:0', grad_fn=<NllLossBackward0>), tensor(0.0117, device='cuda:0', grad_fn=<NllLossBackward0>), tensor(0.2598, device='cuda:0', grad_fn=<NllLossBackward0>), tensor(0.0159, device='cuda:0', grad_fn=<NllLossBackward0>), tensor(0.0748, device='cuda:0', grad_fn=<NllLossBackward0>), tensor(0.0400, device='cuda:0', grad_fn=<NllLossBackward0>), tensor(0.0257, device='cuda:0', grad_fn=<NllLossBackward0>), tensor(0.0134, device='cuda:0', grad_fn=<NllLossBackward0>), tensor(0.0665, device='cuda:0', grad_fn=<NllLossBackward0>), tensor(0.1880, device='cuda:0', grad_fn=<NllLossBackward0>), tensor(0.0184, device='cuda:0', grad_fn=<NllLossBackward0>), tensor(0.0392, device='cuda:0', grad_fn=<NllLossBackward0>), tensor(0.1372, device='cuda:0', grad_fn=<NllLossBackward0>), tensor(0.1362, device='cuda:0', grad_fn=<NllLossBackward0>), tensor(0.0324, device='cuda:0', grad_fn=<NllLossBackward0>), tensor(0.0361, device='cuda:0', grad_fn=<NllLossBackward0>), tensor(0.0173, device='cuda:0', grad_fn=<NllLossBackward0>), tensor(0.0393, device='cuda:0', grad_fn=<NllLossBackward0>), tensor(0.0092, device='cuda:0', grad_fn=<NllLossBackward0>), tensor(0.0286, device='cuda:0', grad_fn=<NllLossBackward0>), tensor(0.0511, device='cuda:0', grad_fn=<NllLossBackward0>), tensor(0.0105, device='cuda:0', grad_fn=<NllLossBackward0>), tensor(0.0061, device='cuda:0', grad_fn=<NllLossBackward0>), tensor(0.0145, device='cuda:0', grad_fn=<NllLossBackward0>), tensor(0.0076, device='cuda:0', grad_fn=<NllLossBackward0>), tensor(0.0066, device='cuda:0', grad_fn=<NllLossBackward0>), tensor(0.0501, device='cuda:0', grad_fn=<NllLossBackward0>), tensor(0.0079, device='cuda:0', grad_fn=<NllLossBackward0>), tensor(0.0065, device='cuda:0', grad_fn=<NllLossBackward0>), tensor(0.0134, device='cuda:0', grad_fn=<NllLossBackward0>), tensor(0.0214, device='cuda:0', grad_fn=<NllLossBackward0>), tensor(0.0082, device='cuda:0', grad_fn=<NllLossBackward0>), tensor(0.1374, device='cuda:0', grad_fn=<NllLossBackward0>), tensor(0.0069, device='cuda:0', grad_fn=<NllLossBackward0>), tensor(0.3426, device='cuda:0', grad_fn=<NllLossBackward0>), tensor(0.0040, device='cuda:0', grad_fn=<NllLossBackward0>), tensor(0.0053, device='cuda:0', grad_fn=<NllLossBackward0>), tensor(0.0061, device='cuda:0', grad_fn=<NllLossBackward0>), tensor(0.0052, device='cuda:0', grad_fn=<NllLossBackward0>), tensor(0.0048, device='cuda:0', grad_fn=<NllLossBackward0>), tensor(0.0162, device='cuda:0', grad_fn=<NllLossBackward0>), tensor(0.0097, device='cuda:0', grad_fn=<NllLossBackward0>), tensor(0.0059, device='cuda:0', grad_fn=<NllLossBackward0>), tensor(0.0274, device='cuda:0', grad_fn=<NllLossBackward0>), tensor(0.0099, device='cuda:0', grad_fn=<NllLossBackward0>), tensor(0.0098, device='cuda:0', grad_fn=<NllLossBackward0>), tensor(0.0070, device='cuda:0', grad_fn=<NllLossBackward0>), tensor(0.0195, device='cuda:0', grad_fn=<NllLossBackward0>), tensor(0.0158, device='cuda:0', grad_fn=<NllLossBackward0>), tensor(0.0035, device='cuda:0', grad_fn=<NllLossBackward0>), tensor(0.0031, device='cuda:0', grad_fn=<NllLossBackward0>), tensor(0.1076, device='cuda:0', grad_fn=<NllLossBackward0>), tensor(0.0036, device='cuda:0', grad_fn=<NllLossBackward0>), tensor(0.0032, device='cuda:0', grad_fn=<NllLossBackward0>), tensor(0.0031, device='cuda:0', grad_fn=<NllLossBackward0>), tensor(0.0037, device='cuda:0', grad_fn=<NllLossBackward0>), tensor(0.0041, device='cuda:0', grad_fn=<NllLossBackward0>), tensor(0.0029, device='cuda:0', grad_fn=<NllLossBackward0>), tensor(0.0028, device='cuda:0', grad_fn=<NllLossBackward0>), tensor(0.0033, device='cuda:0', grad_fn=<NllLossBackward0>), tensor(0.0039, device='cuda:0', grad_fn=<NllLossBackward0>), tensor(0.0024, device='cuda:0', grad_fn=<NllLossBackward0>), tensor(0.0043, device='cuda:0', grad_fn=<NllLossBackward0>), tensor(0.0041, device='cuda:0', grad_fn=<NllLossBackward0>), tensor(0.0032, device='cuda:0', grad_fn=<NllLossBackward0>), tensor(0.0028, device='cuda:0', grad_fn=<NllLossBackward0>), tensor(0.0035, device='cuda:0', grad_fn=<NllLossBackward0>), tensor(0.0025, device='cuda:0', grad_fn=<NllLossBackward0>), tensor(0.0042, device='cuda:0', grad_fn=<NllLossBackward0>), tensor(0.0024, device='cuda:0', grad_fn=<NllLossBackward0>), tensor(0.0076, device='cuda:0', grad_fn=<NllLossBackward0>), tensor(0.0022, device='cuda:0', grad_fn=<NllLossBackward0>), tensor(0.0036, device='cuda:0', grad_fn=<NllLossBackward0>), tensor(0.0042, device='cuda:0', grad_fn=<NllLossBackward0>), tensor(0.0024, device='cuda:0', grad_fn=<NllLossBackward0>), tensor(0.0033, device='cuda:0', grad_fn=<NllLossBackward0>), tensor(0.0027, device='cuda:0', grad_fn=<NllLossBackward0>), tensor(0.0028, device='cuda:0', grad_fn=<NllLossBackward0>), tensor(0.0024, device='cuda:0', grad_fn=<NllLossBackward0>), tensor(0.0022, device='cuda:0', grad_fn=<NllLossBackward0>), tensor(0.0019, device='cuda:0', grad_fn=<NllLossBackward0>), tensor(0.0021, device='cuda:0', grad_fn=<NllLossBackward0>), tensor(0.0026, device='cuda:0', grad_fn=<NllLossBackward0>), tensor(0.0021, device='cuda:0', grad_fn=<NllLossBackward0>), tensor(0.0015, device='cuda:0', grad_fn=<NllLossBackward0>), tensor(0.0031, device='cuda:0', grad_fn=<NllLossBackward0>), tensor(0.0017, device='cuda:0', grad_fn=<NllLossBackward0>), tensor(0.0021, device='cuda:0', grad_fn=<NllLossBackward0>), tensor(0.0018, device='cuda:0', grad_fn=<NllLossBackward0>), tensor(0.0017, device='cuda:0', grad_fn=<NllLossBackward0>), tensor(0.0025, device='cuda:0', grad_fn=<NllLossBackward0>), tensor(0.0019, device='cuda:0', grad_fn=<NllLossBackward0>), tensor(0.0017, device='cuda:0', grad_fn=<NllLossBackward0>), tensor(0.0022, device='cuda:0', grad_fn=<NllLossBackward0>), tensor(0.0018, device='cuda:0', grad_fn=<NllLossBackward0>), tensor(0.0016, device='cuda:0', grad_fn=<NllLossBackward0>), tensor(0.0030, device='cuda:0', grad_fn=<NllLossBackward0>), tensor(0.0019, device='cuda:0', grad_fn=<NllLossBackward0>), tensor(0.3486, device='cuda:0', grad_fn=<NllLossBackward0>), tensor(0.0015, device='cuda:0', grad_fn=<NllLossBackward0>), tensor(0.0021, device='cuda:0', grad_fn=<NllLossBackward0>), tensor(0.0017, device='cuda:0', grad_fn=<NllLossBackward0>), tensor(0.0032, device='cuda:0', grad_fn=<NllLossBackward0>), tensor(0.0017, device='cuda:0', grad_fn=<NllLossBackward0>), tensor(0.0022, device='cuda:0', grad_fn=<NllLossBackward0>), tensor(0.0021, device='cuda:0', grad_fn=<NllLossBackward0>), tensor(0.0091, device='cuda:0', grad_fn=<NllLossBackward0>), tensor(0.0027, device='cuda:0', grad_fn=<NllLossBackward0>), tensor(0.0036, device='cuda:0', grad_fn=<NllLossBackward0>), tensor(0.0017, device='cuda:0', grad_fn=<NllLossBackward0>), tensor(0.0028, device='cuda:0', grad_fn=<NllLossBackward0>), tensor(0.0022, device='cuda:0', grad_fn=<NllLossBackward0>), tensor(0.0023, device='cuda:0', grad_fn=<NllLossBackward0>), tensor(0.0042, device='cuda:0', grad_fn=<NllLossBackward0>), tensor(0.0019, device='cuda:0', grad_fn=<NllLossBackward0>), tensor(0.0020, device='cuda:0', grad_fn=<NllLossBackward0>), tensor(0.0115, device='cuda:0', grad_fn=<NllLossBackward0>), tensor(0.0019, device='cuda:0', grad_fn=<NllLossBackward0>), tensor(0.0049, device='cuda:0', grad_fn=<NllLossBackward0>), tensor(0.0015, device='cuda:0', grad_fn=<NllLossBackward0>), tensor(0.0020, device='cuda:0', grad_fn=<NllLossBackward0>), tensor(0.0015, device='cuda:0', grad_fn=<NllLossBackward0>), tensor(0.0018, device='cuda:0', grad_fn=<NllLossBackward0>), tensor(0.0016, device='cuda:0', grad_fn=<NllLossBackward0>), tensor(0.0034, device='cuda:0', grad_fn=<NllLossBackward0>), tensor(0.0013, device='cuda:0', grad_fn=<NllLossBackward0>), tensor(0.0020, device='cuda:0', grad_fn=<NllLossBackward0>), tensor(0.0087, device='cuda:0', grad_fn=<NllLossBackward0>), tensor(0.0016, device='cuda:0', grad_fn=<NllLossBackward0>), tensor(0.0017, device='cuda:0', grad_fn=<NllLossBackward0>), tensor(0.0013, device='cuda:0', grad_fn=<NllLossBackward0>), tensor(0.0019, device='cuda:0', grad_fn=<NllLossBackward0>), tensor(0.0020, device='cuda:0', grad_fn=<NllLossBackward0>), tensor(0.0016, device='cuda:0', grad_fn=<NllLossBackward0>), tensor(0.0014, device='cuda:0', grad_fn=<NllLossBackward0>), tensor(0.0014, device='cuda:0', grad_fn=<NllLossBackward0>), tensor(0.0015, device='cuda:0', grad_fn=<NllLossBackward0>), tensor(0.0013, device='cuda:0', grad_fn=<NllLossBackward0>), tensor(0.0017, device='cuda:0', grad_fn=<NllLossBackward0>), tensor(0.0013, device='cuda:0', grad_fn=<NllLossBackward0>), tensor(0.0234, device='cuda:0', grad_fn=<NllLossBackward0>), tensor(0.0015, device='cuda:0', grad_fn=<NllLossBackward0>), tensor(0.0015, device='cuda:0', grad_fn=<NllLossBackward0>), tensor(0.0012, device='cuda:0', grad_fn=<NllLossBackward0>), tensor(0.0012, device='cuda:0', grad_fn=<NllLossBackward0>), tensor(0.0012, device='cuda:0', grad_fn=<NllLossBackward0>), tensor(0.0011, device='cuda:0', grad_fn=<NllLossBackward0>), tensor(0.0013, device='cuda:0', grad_fn=<NllLossBackward0>), tensor(0.0011, device='cuda:0', grad_fn=<NllLossBackward0>), tensor(0.0028, device='cuda:0', grad_fn=<NllLossBackward0>), tensor(0.0025, device='cuda:0', grad_fn=<NllLossBackward0>), tensor(0.0031, device='cuda:0', grad_fn=<NllLossBackward0>), tensor(0.0008, device='cuda:0', grad_fn=<NllLossBackward0>), tensor(0.0011, device='cuda:0', grad_fn=<NllLossBackward0>), tensor(0.0011, device='cuda:0', grad_fn=<NllLossBackward0>), tensor(0.0015, device='cuda:0', grad_fn=<NllLossBackward0>), tensor(0.0012, device='cuda:0', grad_fn=<NllLossBackward0>), tensor(0.0033, device='cuda:0', grad_fn=<NllLossBackward0>), tensor(0.3637, device='cuda:0', grad_fn=<NllLossBackward0>), tensor(0.0022, device='cuda:0', grad_fn=<NllLossBackward0>), tensor(0.0013, device='cuda:0', grad_fn=<NllLossBackward0>), tensor(0.0015, device='cuda:0', grad_fn=<NllLossBackward0>), tensor(0.0015, device='cuda:0', grad_fn=<NllLossBackward0>), tensor(0.0012, device='cuda:0', grad_fn=<NllLossBackward0>), tensor(0.0020, device='cuda:0', grad_fn=<NllLossBackward0>), tensor(0.0019, device='cuda:0', grad_fn=<NllLossBackward0>), tensor(0.0787, device='cuda:0', grad_fn=<NllLossBackward0>), tensor(0.0019, device='cuda:0', grad_fn=<NllLossBackward0>), tensor(0.0019, device='cuda:0', grad_fn=<NllLossBackward0>), tensor(0.0014, device='cuda:0', grad_fn=<NllLossBackward0>), tensor(0.0081, device='cuda:0', grad_fn=<NllLossBackward0>), tensor(0.0011, device='cuda:0', grad_fn=<NllLossBackward0>), tensor(0.0013, device='cuda:0', grad_fn=<NllLossBackward0>), tensor(0.0543, device='cuda:0', grad_fn=<NllLossBackward0>), tensor(0.0108, device='cuda:0', grad_fn=<NllLossBackward0>), tensor(0.0014, device='cuda:0', grad_fn=<NllLossBackward0>), tensor(0.0025, device='cuda:0', grad_fn=<NllLossBackward0>), tensor(0.0056, device='cuda:0', grad_fn=<NllLossBackward0>), tensor(0.0016, device='cuda:0', grad_fn=<NllLossBackward0>), tensor(0.0086, device='cuda:0', grad_fn=<NllLossBackward0>), tensor(0.0072, device='cuda:0', grad_fn=<NllLossBackward0>), tensor(0.0013, device='cuda:0', grad_fn=<NllLossBackward0>)]\n"
     ]
    },
    {
     "data": {
      "text/plain": [
       "list"
      ]
     },
     "execution_count": 14,
     "metadata": {},
     "output_type": "execute_result"
    }
   ],
   "source": [
    "print(losses)\n",
    "type(losses)"
   ]
  },
  {
   "cell_type": "code",
   "execution_count": 16,
   "metadata": {},
   "outputs": [
    {
     "data": {
      "text/plain": [
       "[0.6989691257476807,\n",
       " 0.7029625177383423,\n",
       " 0.7086413502693176,\n",
       " 0.7007300853729248,\n",
       " 0.7097991704940796]"
      ]
     },
     "execution_count": 16,
     "metadata": {},
     "output_type": "execute_result"
    }
   ],
   "source": [
    "new_losses = [i.item() for i in losses]\n",
    "\n",
    "new_losses[:5]"
   ]
  },
  {
   "cell_type": "code",
   "execution_count": 19,
   "metadata": {},
   "outputs": [
    {
     "data": {
      "image/png": "[encoded data removed]",
      "text/plain": [
       "<Figure size 640x480 with 1 Axes>"
      ]
     },
     "metadata": {},
     "output_type": "display_data"
    }
   ],
   "source": [
    "import matplotlib.pyplot as plt\n",
    "plt.plot(new_losses)\n",
    "plt.show();"
   ]
  },
  {
   "cell_type": "code",
   "execution_count": 20,
   "metadata": {},
   "outputs": [
    {
     "name": "stdout",
     "output_type": "stream",
     "text": [
      "0.855\n"
     ]
    }
   ],
   "source": [
    "model.eval()\n",
    "\n",
    "l = []\n",
    "\n",
    "for test_text in test_texts:\n",
    "    \n",
    "    input_tokens = tokenizer([test_text], truncation=True, padding=True)\n",
    "    \n",
    "    outputs = model(torch.tensor(input_tokens['input_ids']).to(device))\n",
    "    \n",
    "    l.append(torch.argmax(outputs['logits'], axis=1).item())\n",
    "\n",
    "correct_cnt = 0\n",
    "\n",
    "for pred, ans in zip(l, test_labels):\n",
    "    if pred == ans: \n",
    "        correct_cnt += 1\n",
    "\n",
    "print(correct_cnt/len(test_labels))"
   ]
  },
  {
   "cell_type": "code",
   "execution_count": 21,
   "metadata": {},
   "outputs": [
    {
     "name": "stdout",
     "output_type": "stream",
     "text": [
      "0.7682672233820459\n",
      "0.9154228855721394\n",
      "0.8354143019296255\n"
     ]
    }
   ],
   "source": [
    "tp = 0\n",
    "tn = 0\n",
    "fp = 0\n",
    "fn = 0\n",
    "\n",
    "for pred, ans in zip(l, test_labels):\n",
    "    if pred == ans:\n",
    "        if pred == 1:\n",
    "            tp += 1\n",
    "        else:\n",
    "            tn += 1\n",
    "    \n",
    "    elif pred == 0:\n",
    "        fn += 1\n",
    "    \n",
    "    elif pred == 1:\n",
    "        fp += 1\n",
    "\n",
    "recall = tp / (tp+fn)\n",
    "print(recall)\n",
    "\n",
    "precision = tp / (tp+fp)\n",
    "print(precision)\n",
    "\n",
    "f1 = (2*precision*recall) / (precision + recall)\n",
    "print(f1)"
   ]
  },
  {
   "cell_type": "code",
   "execution_count": 22,
   "metadata": {},
   "outputs": [
    {
     "name": "stdout",
     "output_type": "stream",
     "text": [
      "              precision    recall  f1-score   support\n",
      "\n",
      "           0       0.81      0.93      0.87       521\n",
      "           1       0.92      0.77      0.84       479\n",
      "\n",
      "    accuracy                           0.85      1000\n",
      "   macro avg       0.86      0.85      0.85      1000\n",
      "weighted avg       0.86      0.85      0.85      1000\n",
      "\n"
     ]
    }
   ],
   "source": [
    "from sklearn.metrics import classification_report\n",
    "\n",
    "print(classification_report(test_labels, l))"
   ]
  }
 ],
 "metadata": {
  "kernelspec": {
   "display_name": "llm",
   "language": "python",
   "name": "python3"
  },
  "language_info": {
   "codemirror_mode": {
    "name": "ipython",
    "version": 3
   },
   "file_extension": ".py",
   "mimetype": "text/x-python",
   "name": "python",
   "nbconvert_exporter": "python",
   "pygments_lexer": "ipython3",
   "version": "3.9.21"
  }
 },
 "nbformat": 4,
 "nbformat_minor": 2
}
